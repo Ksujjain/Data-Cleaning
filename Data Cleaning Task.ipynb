{
 "cells": [
  {
   "cell_type": "markdown",
   "id": "48094772",
   "metadata": {},
   "source": [
    "# Import libraries "
   ]
  },
  {
   "cell_type": "code",
   "execution_count": 1,
   "id": "33b30271",
   "metadata": {},
   "outputs": [],
   "source": [
    "import pandas as pd\n",
    "import numpy as np\n",
    "import matplotlib.pyplot as plt\n",
    "import nltk\n",
    "%matplotlib inline"
   ]
  },
  {
   "cell_type": "markdown",
   "id": "81f73936",
   "metadata": {},
   "source": [
    "# Load the dataset"
   ]
  },
  {
   "cell_type": "code",
   "execution_count": 2,
   "id": "3834883a",
   "metadata": {},
   "outputs": [],
   "source": [
    "df = pd.read_csv(\"Downloads//gender_submission.csv\")"
   ]
  },
  {
   "cell_type": "markdown",
   "id": "52e6f05b",
   "metadata": {},
   "source": [
    "# Performing Data Cleanig "
   ]
  },
  {
   "cell_type": "code",
   "execution_count": 3,
   "id": "49f6e5ba",
   "metadata": {},
   "outputs": [
    {
     "data": {
      "text/html": [
       "<div>\n",
       "<style scoped>\n",
       "    .dataframe tbody tr th:only-of-type {\n",
       "        vertical-align: middle;\n",
       "    }\n",
       "\n",
       "    .dataframe tbody tr th {\n",
       "        vertical-align: top;\n",
       "    }\n",
       "\n",
       "    .dataframe thead th {\n",
       "        text-align: right;\n",
       "    }\n",
       "</style>\n",
       "<table border=\"1\" class=\"dataframe\">\n",
       "  <thead>\n",
       "    <tr style=\"text-align: right;\">\n",
       "      <th></th>\n",
       "      <th>PassengerId</th>\n",
       "      <th>Survived</th>\n",
       "    </tr>\n",
       "  </thead>\n",
       "  <tbody>\n",
       "    <tr>\n",
       "      <th>0</th>\n",
       "      <td>892</td>\n",
       "      <td>0</td>\n",
       "    </tr>\n",
       "    <tr>\n",
       "      <th>1</th>\n",
       "      <td>893</td>\n",
       "      <td>1</td>\n",
       "    </tr>\n",
       "    <tr>\n",
       "      <th>2</th>\n",
       "      <td>894</td>\n",
       "      <td>0</td>\n",
       "    </tr>\n",
       "    <tr>\n",
       "      <th>3</th>\n",
       "      <td>895</td>\n",
       "      <td>0</td>\n",
       "    </tr>\n",
       "    <tr>\n",
       "      <th>4</th>\n",
       "      <td>896</td>\n",
       "      <td>1</td>\n",
       "    </tr>\n",
       "  </tbody>\n",
       "</table>\n",
       "</div>"
      ],
      "text/plain": [
       "   PassengerId  Survived\n",
       "0          892         0\n",
       "1          893         1\n",
       "2          894         0\n",
       "3          895         0\n",
       "4          896         1"
      ]
     },
     "execution_count": 3,
     "metadata": {},
     "output_type": "execute_result"
    }
   ],
   "source": [
    "df.head()"
   ]
  },
  {
   "cell_type": "code",
   "execution_count": 4,
   "id": "56bbcdb8",
   "metadata": {
    "scrolled": false
   },
   "outputs": [
    {
     "data": {
      "text/html": [
       "<div>\n",
       "<style scoped>\n",
       "    .dataframe tbody tr th:only-of-type {\n",
       "        vertical-align: middle;\n",
       "    }\n",
       "\n",
       "    .dataframe tbody tr th {\n",
       "        vertical-align: top;\n",
       "    }\n",
       "\n",
       "    .dataframe thead th {\n",
       "        text-align: right;\n",
       "    }\n",
       "</style>\n",
       "<table border=\"1\" class=\"dataframe\">\n",
       "  <thead>\n",
       "    <tr style=\"text-align: right;\">\n",
       "      <th></th>\n",
       "      <th>PassengerId</th>\n",
       "      <th>Survived</th>\n",
       "    </tr>\n",
       "  </thead>\n",
       "  <tbody>\n",
       "    <tr>\n",
       "      <th>413</th>\n",
       "      <td>1305</td>\n",
       "      <td>0</td>\n",
       "    </tr>\n",
       "    <tr>\n",
       "      <th>414</th>\n",
       "      <td>1306</td>\n",
       "      <td>1</td>\n",
       "    </tr>\n",
       "    <tr>\n",
       "      <th>415</th>\n",
       "      <td>1307</td>\n",
       "      <td>0</td>\n",
       "    </tr>\n",
       "    <tr>\n",
       "      <th>416</th>\n",
       "      <td>1308</td>\n",
       "      <td>0</td>\n",
       "    </tr>\n",
       "    <tr>\n",
       "      <th>417</th>\n",
       "      <td>1309</td>\n",
       "      <td>0</td>\n",
       "    </tr>\n",
       "  </tbody>\n",
       "</table>\n",
       "</div>"
      ],
      "text/plain": [
       "     PassengerId  Survived\n",
       "413         1305         0\n",
       "414         1306         1\n",
       "415         1307         0\n",
       "416         1308         0\n",
       "417         1309         0"
      ]
     },
     "execution_count": 4,
     "metadata": {},
     "output_type": "execute_result"
    }
   ],
   "source": [
    "df.tail()"
   ]
  },
  {
   "cell_type": "code",
   "execution_count": 5,
   "id": "a597db4d",
   "metadata": {
    "scrolled": true
   },
   "outputs": [
    {
     "name": "stdout",
     "output_type": "stream",
     "text": [
      "<class 'pandas.core.frame.DataFrame'>\n",
      "RangeIndex: 418 entries, 0 to 417\n",
      "Data columns (total 2 columns):\n",
      " #   Column       Non-Null Count  Dtype\n",
      "---  ------       --------------  -----\n",
      " 0   PassengerId  418 non-null    int64\n",
      " 1   Survived     418 non-null    int64\n",
      "dtypes: int64(2)\n",
      "memory usage: 6.7 KB\n"
     ]
    }
   ],
   "source": [
    "df.info()"
   ]
  },
  {
   "cell_type": "markdown",
   "id": "d1aa0cc6",
   "metadata": {},
   "source": [
    "# Handling Missing Values:"
   ]
  },
  {
   "cell_type": "code",
   "execution_count": 6,
   "id": "6accb05f",
   "metadata": {
    "scrolled": true
   },
   "outputs": [
    {
     "data": {
      "text/html": [
       "<div>\n",
       "<style scoped>\n",
       "    .dataframe tbody tr th:only-of-type {\n",
       "        vertical-align: middle;\n",
       "    }\n",
       "\n",
       "    .dataframe tbody tr th {\n",
       "        vertical-align: top;\n",
       "    }\n",
       "\n",
       "    .dataframe thead th {\n",
       "        text-align: right;\n",
       "    }\n",
       "</style>\n",
       "<table border=\"1\" class=\"dataframe\">\n",
       "  <thead>\n",
       "    <tr style=\"text-align: right;\">\n",
       "      <th></th>\n",
       "      <th>PassengerId</th>\n",
       "      <th>Survived</th>\n",
       "    </tr>\n",
       "  </thead>\n",
       "  <tbody>\n",
       "    <tr>\n",
       "      <th>0</th>\n",
       "      <td>False</td>\n",
       "      <td>False</td>\n",
       "    </tr>\n",
       "    <tr>\n",
       "      <th>1</th>\n",
       "      <td>False</td>\n",
       "      <td>False</td>\n",
       "    </tr>\n",
       "    <tr>\n",
       "      <th>2</th>\n",
       "      <td>False</td>\n",
       "      <td>False</td>\n",
       "    </tr>\n",
       "    <tr>\n",
       "      <th>3</th>\n",
       "      <td>False</td>\n",
       "      <td>False</td>\n",
       "    </tr>\n",
       "    <tr>\n",
       "      <th>4</th>\n",
       "      <td>False</td>\n",
       "      <td>False</td>\n",
       "    </tr>\n",
       "    <tr>\n",
       "      <th>...</th>\n",
       "      <td>...</td>\n",
       "      <td>...</td>\n",
       "    </tr>\n",
       "    <tr>\n",
       "      <th>413</th>\n",
       "      <td>False</td>\n",
       "      <td>False</td>\n",
       "    </tr>\n",
       "    <tr>\n",
       "      <th>414</th>\n",
       "      <td>False</td>\n",
       "      <td>False</td>\n",
       "    </tr>\n",
       "    <tr>\n",
       "      <th>415</th>\n",
       "      <td>False</td>\n",
       "      <td>False</td>\n",
       "    </tr>\n",
       "    <tr>\n",
       "      <th>416</th>\n",
       "      <td>False</td>\n",
       "      <td>False</td>\n",
       "    </tr>\n",
       "    <tr>\n",
       "      <th>417</th>\n",
       "      <td>False</td>\n",
       "      <td>False</td>\n",
       "    </tr>\n",
       "  </tbody>\n",
       "</table>\n",
       "<p>418 rows × 2 columns</p>\n",
       "</div>"
      ],
      "text/plain": [
       "     PassengerId  Survived\n",
       "0          False     False\n",
       "1          False     False\n",
       "2          False     False\n",
       "3          False     False\n",
       "4          False     False\n",
       "..           ...       ...\n",
       "413        False     False\n",
       "414        False     False\n",
       "415        False     False\n",
       "416        False     False\n",
       "417        False     False\n",
       "\n",
       "[418 rows x 2 columns]"
      ]
     },
     "execution_count": 6,
     "metadata": {},
     "output_type": "execute_result"
    }
   ],
   "source": [
    "df.isnull()"
   ]
  },
  {
   "cell_type": "code",
   "execution_count": 7,
   "id": "42d9ede7",
   "metadata": {},
   "outputs": [
    {
     "name": "stdout",
     "output_type": "stream",
     "text": [
      "['PassengerId' 'Survived']\n"
     ]
    }
   ],
   "source": [
    "print(df.columns.values)"
   ]
  },
  {
   "cell_type": "code",
   "execution_count": 8,
   "id": "086b1e06",
   "metadata": {},
   "outputs": [
    {
     "data": {
      "text/plain": [
       "(418, 2)"
      ]
     },
     "execution_count": 8,
     "metadata": {},
     "output_type": "execute_result"
    }
   ],
   "source": [
    "df.shape"
   ]
  },
  {
   "cell_type": "code",
   "execution_count": 9,
   "id": "26da5fbc",
   "metadata": {},
   "outputs": [
    {
     "data": {
      "text/html": [
       "<div>\n",
       "<style scoped>\n",
       "    .dataframe tbody tr th:only-of-type {\n",
       "        vertical-align: middle;\n",
       "    }\n",
       "\n",
       "    .dataframe tbody tr th {\n",
       "        vertical-align: top;\n",
       "    }\n",
       "\n",
       "    .dataframe thead th {\n",
       "        text-align: right;\n",
       "    }\n",
       "</style>\n",
       "<table border=\"1\" class=\"dataframe\">\n",
       "  <thead>\n",
       "    <tr style=\"text-align: right;\">\n",
       "      <th></th>\n",
       "      <th>PassengerId</th>\n",
       "      <th>Survived</th>\n",
       "    </tr>\n",
       "  </thead>\n",
       "  <tbody>\n",
       "    <tr>\n",
       "      <th>count</th>\n",
       "      <td>418.000000</td>\n",
       "      <td>418.000000</td>\n",
       "    </tr>\n",
       "    <tr>\n",
       "      <th>mean</th>\n",
       "      <td>1100.500000</td>\n",
       "      <td>0.363636</td>\n",
       "    </tr>\n",
       "    <tr>\n",
       "      <th>std</th>\n",
       "      <td>120.810458</td>\n",
       "      <td>0.481622</td>\n",
       "    </tr>\n",
       "    <tr>\n",
       "      <th>min</th>\n",
       "      <td>892.000000</td>\n",
       "      <td>0.000000</td>\n",
       "    </tr>\n",
       "    <tr>\n",
       "      <th>25%</th>\n",
       "      <td>996.250000</td>\n",
       "      <td>0.000000</td>\n",
       "    </tr>\n",
       "    <tr>\n",
       "      <th>50%</th>\n",
       "      <td>1100.500000</td>\n",
       "      <td>0.000000</td>\n",
       "    </tr>\n",
       "    <tr>\n",
       "      <th>75%</th>\n",
       "      <td>1204.750000</td>\n",
       "      <td>1.000000</td>\n",
       "    </tr>\n",
       "    <tr>\n",
       "      <th>max</th>\n",
       "      <td>1309.000000</td>\n",
       "      <td>1.000000</td>\n",
       "    </tr>\n",
       "  </tbody>\n",
       "</table>\n",
       "</div>"
      ],
      "text/plain": [
       "       PassengerId    Survived\n",
       "count   418.000000  418.000000\n",
       "mean   1100.500000    0.363636\n",
       "std     120.810458    0.481622\n",
       "min     892.000000    0.000000\n",
       "25%     996.250000    0.000000\n",
       "50%    1100.500000    0.000000\n",
       "75%    1204.750000    1.000000\n",
       "max    1309.000000    1.000000"
      ]
     },
     "execution_count": 9,
     "metadata": {},
     "output_type": "execute_result"
    }
   ],
   "source": [
    "df.describe()"
   ]
  },
  {
   "cell_type": "markdown",
   "id": "6f5dcd58",
   "metadata": {},
   "source": [
    "# Handling Outliers:"
   ]
  },
  {
   "cell_type": "code",
   "execution_count": 11,
   "id": "ee23354d",
   "metadata": {},
   "outputs": [
    {
     "data": {
      "image/png": "[encoded data removed]",
      "text/plain": [
       "<Figure size 640x480 with 1 Axes>"
      ]
     },
     "metadata": {},
     "output_type": "display_data"
    }
   ],
   "source": [
    "plt.boxplot(df)\n",
    "plt.show()"
   ]
  },
  {
   "cell_type": "code",
   "execution_count": 12,
   "id": "868f2fa8",
   "metadata": {},
   "outputs": [
    {
     "name": "stdout",
     "output_type": "stream",
     "text": [
      "[[1.2942943  0.04163012 0.77951002 0.85161436 0.29293951 0.87496379\n",
      "  0.7390668  0.18649986 0.85647971 0.10476357 1.49532935 1.18028025]\n",
      " [1.48777367 0.1076367  0.9987461  1.24751182 0.41924227 1.42496548\n",
      "  1.13475795 1.18715097 0.31271361 0.77159049 0.39331934 1.34668732]\n",
      " [0.0182022  1.15132764 0.77016851 1.9446249  1.57793212 0.72804772\n",
      "  1.73407053 0.0171084  0.89233006 1.19885177 0.43352389 0.5389271 ]\n",
      " [0.28100758 0.53771474 1.13405126 0.97010972 0.72719045 0.72806533\n",
      "  0.08645146 0.27836043 0.32432721 0.86519564 1.02037379 1.08955297]\n",
      " [0.43641359 1.09379993 0.91161941 1.2695468  0.41450521 0.09251672\n",
      "  1.04470252 1.21645491 1.16760676 0.32854582 2.02297229 0.80664457]\n",
      " [1.73167733 1.27001096 0.28338584 0.94737515 0.14935628 0.52848986\n",
      "  0.72875077 1.36631891 1.12793642 1.47440455 1.4446634  1.50392556]\n",
      " [0.31544968 0.43316818 0.06968811 0.10339377 1.08004856 0.5823066\n",
      "  1.61867949 1.88470658 1.09929717 1.34777427 0.24158931 1.55786761]\n",
      " [0.85761433 1.12147309 1.79722818 1.02521026 1.31588992 0.67555965\n",
      "  0.48557683 0.67753944 1.10317378 0.45285413 0.3373221  0.2633112 ]\n",
      " [1.32619389 1.04315272 0.83528576 0.67001371 0.79794335 0.97393219\n",
      "  1.21110998 0.64621993 0.45658022 1.42899991 0.31051771 0.66683369]\n",
      " [0.46820515 1.85261661 1.66305078 0.18990932 1.07754328 1.55690369\n",
      "  0.49314488 0.64804076 1.06722959 1.45289564 0.98117796 0.72233635]\n",
      " [1.32590901 0.95065053 0.93599291 0.87859477 1.7294267  1.30598576\n",
      "  0.16454217 1.20386121 1.03266924 0.85531377 0.97899433 0.8859837 ]\n",
      " [0.52136375 0.83260661 0.17283689 0.40970797 0.91587323 1.40796472\n",
      "  0.96756789 0.9129654  1.67103818 0.14132258 0.10489161 0.3945222 ]]\n"
     ]
    }
   ],
   "source": [
    "from scipy import stats\n",
    "\n",
    "z_scores = np.abs(stats.zscore(df))\n",
    "print(z_scores)"
   ]
  },
  {
   "cell_type": "code",
   "execution_count": 13,
   "id": "beff581d",
   "metadata": {},
   "outputs": [
    {
     "data": {
      "text/plain": [
       "array([[0.01916748, 0.58408133, 0.46561044, 0.82958033, 0.47098303,\n",
       "        0.42052572, 0.26250659, 0.5034498 , 0.32016944, 0.52481173,\n",
       "        0.89030646, 0.93377578],\n",
       "       [0.78830425, 0.56328322, 0.95645488, 0.93165568, 0.43155713,\n",
       "        0.82911931, 0.14570063, 0.84731153, 0.70410082, 0.28822697,\n",
       "        0.62732355, 0.16486256],\n",
       "       [0.38202321, 0.23442512, 0.89336158, 0.10861815, 0.06986761,\n",
       "        0.70530849, 0.99256376, 0.55441842, 0.30839715, 0.17288146,\n",
       "        0.43000624, 0.73862293],\n",
       "       [0.299303  , 0.4277693 , 0.99380258, 0.35988012, 0.78942054,\n",
       "        0.44662294, 0.45515521, 0.48045463, 0.70791442, 0.26295688,\n",
       "        0.77696339, 0.90616901],\n",
       "       [0.25633911, 0.25255161, 0.93240567, 0.93733701, 0.69181463,\n",
       "        0.59240332, 0.78906594, 0.8546471 , 0.98482455, 0.40783344,\n",
       "        0.05070137, 0.32918837],\n",
       "       [0.8557344 , 0.99736824, 0.75899704, 0.36574184, 0.51580309,\n",
       "        0.66985607, 0.69579864, 0.89216209, 0.97179789, 0.89456661,\n",
       "        0.1887086 , 0.11701764],\n",
       "       [0.28978106, 0.46071103, 0.70001097, 0.58334792, 0.22528389,\n",
       "        0.67941687, 0.00284953, 0.07834299, 0.96239354, 0.86038089,\n",
       "        0.59111479, 0.10060399],\n",
       "       [0.139893  , 0.95056522, 0.18469405, 0.87433904, 0.97318536,\n",
       "        0.69598373, 0.62401496, 0.71974206, 0.23916179, 0.37427458,\n",
       "        0.6139604 , 0.49451547],\n",
       "       [0.74363354, 0.92588714, 0.91133562, 0.78275772, 0.81150633,\n",
       "        0.4029435 , 0.83818855, 0.3883695 , 0.75134272, 0.88230895,\n",
       "        0.60756382, 0.77754273],\n",
       "       [0.50643204, 0.01345495, 0.22173046, 0.65897107, 0.89878454,\n",
       "        0.29937579, 0.33510145, 0.71235775, 0.95186341, 0.10429855,\n",
       "        0.29931445, 0.79443125],\n",
       "       [0.0104272 , 0.89674049, 0.42241714, 0.38347568, 0.02257799,\n",
       "        0.34395257, 0.43210324, 0.24877689, 0.26231357, 0.72743388,\n",
       "        0.76708862, 0.84422635],\n",
       "       [0.23285359, 0.85954586, 0.72848269, 0.50437007, 0.8483186 ,\n",
       "        0.82609904, 0.19505426, 0.32159594, 0.05269052, 0.45837713,\n",
       "        0.55849335, 0.69468298]])"
      ]
     },
     "execution_count": 13,
     "metadata": {},
     "output_type": "execute_result"
    }
   ],
   "source": [
    "threshold = 3\n",
    "df_no_outliers = df[(z_scores < threshold).all(axis=1)]\n",
    "df_no_outliers"
   ]
  },
  {
   "cell_type": "markdown",
   "id": "d472fa07",
   "metadata": {},
   "source": [
    "# Save Cleaned Dataset:"
   ]
  },
  {
   "cell_type": "code",
   "execution_count": 14,
   "id": "f32740e5",
   "metadata": {},
   "outputs": [],
   "source": [
    "df_no_outliers = df[(z_scores < threshold).all(axis=1)]"
   ]
  },
  {
   "cell_type": "code",
   "execution_count": 15,
   "id": "337d4257",
   "metadata": {},
   "outputs": [],
   "source": [
    "df_no_outliers = pd.DataFrame(df_no_outliers)  # Convert back to a DataFrame\n",
    "df_no_outliers.to_csv('cleaned_dataset.csv',index=False)"
   ]
  },
  {
   "cell_type": "code",
   "execution_count": 16,
   "id": "5c764d8b",
   "metadata": {},
   "outputs": [
    {
     "data": {
      "text/html": [
       "<div>\n",
       "<style scoped>\n",
       "    .dataframe tbody tr th:only-of-type {\n",
       "        vertical-align: middle;\n",
       "    }\n",
       "\n",
       "    .dataframe tbody tr th {\n",
       "        vertical-align: top;\n",
       "    }\n",
       "\n",
       "    .dataframe thead th {\n",
       "        text-align: right;\n",
       "    }\n",
       "</style>\n",
       "<table border=\"1\" class=\"dataframe\">\n",
       "  <thead>\n",
       "    <tr style=\"text-align: right;\">\n",
       "      <th></th>\n",
       "      <th>0</th>\n",
       "      <th>1</th>\n",
       "      <th>2</th>\n",
       "      <th>3</th>\n",
       "      <th>4</th>\n",
       "      <th>5</th>\n",
       "      <th>6</th>\n",
       "      <th>7</th>\n",
       "      <th>8</th>\n",
       "      <th>9</th>\n",
       "      <th>10</th>\n",
       "      <th>11</th>\n",
       "    </tr>\n",
       "  </thead>\n",
       "  <tbody>\n",
       "    <tr>\n",
       "      <th>0</th>\n",
       "      <td>0.019167</td>\n",
       "      <td>0.584081</td>\n",
       "      <td>0.465610</td>\n",
       "      <td>0.829580</td>\n",
       "      <td>0.470983</td>\n",
       "      <td>0.420526</td>\n",
       "      <td>0.262507</td>\n",
       "      <td>0.503450</td>\n",
       "      <td>0.320169</td>\n",
       "      <td>0.524812</td>\n",
       "      <td>0.890306</td>\n",
       "      <td>0.933776</td>\n",
       "    </tr>\n",
       "    <tr>\n",
       "      <th>1</th>\n",
       "      <td>0.788304</td>\n",
       "      <td>0.563283</td>\n",
       "      <td>0.956455</td>\n",
       "      <td>0.931656</td>\n",
       "      <td>0.431557</td>\n",
       "      <td>0.829119</td>\n",
       "      <td>0.145701</td>\n",
       "      <td>0.847312</td>\n",
       "      <td>0.704101</td>\n",
       "      <td>0.288227</td>\n",
       "      <td>0.627324</td>\n",
       "      <td>0.164863</td>\n",
       "    </tr>\n",
       "    <tr>\n",
       "      <th>2</th>\n",
       "      <td>0.382023</td>\n",
       "      <td>0.234425</td>\n",
       "      <td>0.893362</td>\n",
       "      <td>0.108618</td>\n",
       "      <td>0.069868</td>\n",
       "      <td>0.705308</td>\n",
       "      <td>0.992564</td>\n",
       "      <td>0.554418</td>\n",
       "      <td>0.308397</td>\n",
       "      <td>0.172881</td>\n",
       "      <td>0.430006</td>\n",
       "      <td>0.738623</td>\n",
       "    </tr>\n",
       "    <tr>\n",
       "      <th>3</th>\n",
       "      <td>0.299303</td>\n",
       "      <td>0.427769</td>\n",
       "      <td>0.993803</td>\n",
       "      <td>0.359880</td>\n",
       "      <td>0.789421</td>\n",
       "      <td>0.446623</td>\n",
       "      <td>0.455155</td>\n",
       "      <td>0.480455</td>\n",
       "      <td>0.707914</td>\n",
       "      <td>0.262957</td>\n",
       "      <td>0.776963</td>\n",
       "      <td>0.906169</td>\n",
       "    </tr>\n",
       "    <tr>\n",
       "      <th>4</th>\n",
       "      <td>0.256339</td>\n",
       "      <td>0.252552</td>\n",
       "      <td>0.932406</td>\n",
       "      <td>0.937337</td>\n",
       "      <td>0.691815</td>\n",
       "      <td>0.592403</td>\n",
       "      <td>0.789066</td>\n",
       "      <td>0.854647</td>\n",
       "      <td>0.984825</td>\n",
       "      <td>0.407833</td>\n",
       "      <td>0.050701</td>\n",
       "      <td>0.329188</td>\n",
       "    </tr>\n",
       "    <tr>\n",
       "      <th>5</th>\n",
       "      <td>0.855734</td>\n",
       "      <td>0.997368</td>\n",
       "      <td>0.758997</td>\n",
       "      <td>0.365742</td>\n",
       "      <td>0.515803</td>\n",
       "      <td>0.669856</td>\n",
       "      <td>0.695799</td>\n",
       "      <td>0.892162</td>\n",
       "      <td>0.971798</td>\n",
       "      <td>0.894567</td>\n",
       "      <td>0.188709</td>\n",
       "      <td>0.117018</td>\n",
       "    </tr>\n",
       "    <tr>\n",
       "      <th>6</th>\n",
       "      <td>0.289781</td>\n",
       "      <td>0.460711</td>\n",
       "      <td>0.700011</td>\n",
       "      <td>0.583348</td>\n",
       "      <td>0.225284</td>\n",
       "      <td>0.679417</td>\n",
       "      <td>0.002850</td>\n",
       "      <td>0.078343</td>\n",
       "      <td>0.962394</td>\n",
       "      <td>0.860381</td>\n",
       "      <td>0.591115</td>\n",
       "      <td>0.100604</td>\n",
       "    </tr>\n",
       "    <tr>\n",
       "      <th>7</th>\n",
       "      <td>0.139893</td>\n",
       "      <td>0.950565</td>\n",
       "      <td>0.184694</td>\n",
       "      <td>0.874339</td>\n",
       "      <td>0.973185</td>\n",
       "      <td>0.695984</td>\n",
       "      <td>0.624015</td>\n",
       "      <td>0.719742</td>\n",
       "      <td>0.239162</td>\n",
       "      <td>0.374275</td>\n",
       "      <td>0.613960</td>\n",
       "      <td>0.494515</td>\n",
       "    </tr>\n",
       "    <tr>\n",
       "      <th>8</th>\n",
       "      <td>0.743634</td>\n",
       "      <td>0.925887</td>\n",
       "      <td>0.911336</td>\n",
       "      <td>0.782758</td>\n",
       "      <td>0.811506</td>\n",
       "      <td>0.402944</td>\n",
       "      <td>0.838189</td>\n",
       "      <td>0.388370</td>\n",
       "      <td>0.751343</td>\n",
       "      <td>0.882309</td>\n",
       "      <td>0.607564</td>\n",
       "      <td>0.777543</td>\n",
       "    </tr>\n",
       "    <tr>\n",
       "      <th>9</th>\n",
       "      <td>0.506432</td>\n",
       "      <td>0.013455</td>\n",
       "      <td>0.221730</td>\n",
       "      <td>0.658971</td>\n",
       "      <td>0.898785</td>\n",
       "      <td>0.299376</td>\n",
       "      <td>0.335101</td>\n",
       "      <td>0.712358</td>\n",
       "      <td>0.951863</td>\n",
       "      <td>0.104299</td>\n",
       "      <td>0.299314</td>\n",
       "      <td>0.794431</td>\n",
       "    </tr>\n",
       "    <tr>\n",
       "      <th>10</th>\n",
       "      <td>0.010427</td>\n",
       "      <td>0.896740</td>\n",
       "      <td>0.422417</td>\n",
       "      <td>0.383476</td>\n",
       "      <td>0.022578</td>\n",
       "      <td>0.343953</td>\n",
       "      <td>0.432103</td>\n",
       "      <td>0.248777</td>\n",
       "      <td>0.262314</td>\n",
       "      <td>0.727434</td>\n",
       "      <td>0.767089</td>\n",
       "      <td>0.844226</td>\n",
       "    </tr>\n",
       "    <tr>\n",
       "      <th>11</th>\n",
       "      <td>0.232854</td>\n",
       "      <td>0.859546</td>\n",
       "      <td>0.728483</td>\n",
       "      <td>0.504370</td>\n",
       "      <td>0.848319</td>\n",
       "      <td>0.826099</td>\n",
       "      <td>0.195054</td>\n",
       "      <td>0.321596</td>\n",
       "      <td>0.052691</td>\n",
       "      <td>0.458377</td>\n",
       "      <td>0.558493</td>\n",
       "      <td>0.694683</td>\n",
       "    </tr>\n",
       "  </tbody>\n",
       "</table>\n",
       "</div>"
      ],
      "text/plain": [
       "          0         1         2         3         4         5         6   \\\n",
       "0   0.019167  0.584081  0.465610  0.829580  0.470983  0.420526  0.262507   \n",
       "1   0.788304  0.563283  0.956455  0.931656  0.431557  0.829119  0.145701   \n",
       "2   0.382023  0.234425  0.893362  0.108618  0.069868  0.705308  0.992564   \n",
       "3   0.299303  0.427769  0.993803  0.359880  0.789421  0.446623  0.455155   \n",
       "4   0.256339  0.252552  0.932406  0.937337  0.691815  0.592403  0.789066   \n",
       "5   0.855734  0.997368  0.758997  0.365742  0.515803  0.669856  0.695799   \n",
       "6   0.289781  0.460711  0.700011  0.583348  0.225284  0.679417  0.002850   \n",
       "7   0.139893  0.950565  0.184694  0.874339  0.973185  0.695984  0.624015   \n",
       "8   0.743634  0.925887  0.911336  0.782758  0.811506  0.402944  0.838189   \n",
       "9   0.506432  0.013455  0.221730  0.658971  0.898785  0.299376  0.335101   \n",
       "10  0.010427  0.896740  0.422417  0.383476  0.022578  0.343953  0.432103   \n",
       "11  0.232854  0.859546  0.728483  0.504370  0.848319  0.826099  0.195054   \n",
       "\n",
       "          7         8         9         10        11  \n",
       "0   0.503450  0.320169  0.524812  0.890306  0.933776  \n",
       "1   0.847312  0.704101  0.288227  0.627324  0.164863  \n",
       "2   0.554418  0.308397  0.172881  0.430006  0.738623  \n",
       "3   0.480455  0.707914  0.262957  0.776963  0.906169  \n",
       "4   0.854647  0.984825  0.407833  0.050701  0.329188  \n",
       "5   0.892162  0.971798  0.894567  0.188709  0.117018  \n",
       "6   0.078343  0.962394  0.860381  0.591115  0.100604  \n",
       "7   0.719742  0.239162  0.374275  0.613960  0.494515  \n",
       "8   0.388370  0.751343  0.882309  0.607564  0.777543  \n",
       "9   0.712358  0.951863  0.104299  0.299314  0.794431  \n",
       "10  0.248777  0.262314  0.727434  0.767089  0.844226  \n",
       "11  0.321596  0.052691  0.458377  0.558493  0.694683  "
      ]
     },
     "execution_count": 16,
     "metadata": {},
     "output_type": "execute_result"
    }
   ],
   "source": [
    "df_no_outliers"
   ]
  },
  {
   "cell_type": "code",
   "execution_count": null,
   "id": "827b95f3",
   "metadata": {},
   "outputs": [],
   "source": []
  }
 ],
 "metadata": {
  "kernelspec": {
   "display_name": "Python 3 (ipykernel)",
   "language": "python",
   "name": "python3"
  },
  "language_info": {
   "codemirror_mode": {
    "name": "ipython",
    "version": 3
   },
   "file_extension": ".py",
   "mimetype": "text/x-python",
   "name": "python",
   "nbconvert_exporter": "python",
   "pygments_lexer": "ipython3",
   "version": "3.11.4"
  }
 },
 "nbformat": 4,
 "nbformat_minor": 5
}
